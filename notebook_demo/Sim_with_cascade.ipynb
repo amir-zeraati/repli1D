{
 "cells": [
  {
   "cell_type": "code",
   "execution_count": 1,
   "metadata": {},
   "outputs": [],
   "source": [
    "%matplotlib inline\n",
    "#%matplotlib ipympl\n",
    "%load_ext autoreload\n",
    "%autoreload 2\n",
    "from pylab import *\n",
    "import pandas as pd\n"
   ]
  },
  {
   "cell_type": "code",
   "execution_count": 13,
   "metadata": {},
   "outputs": [],
   "source": [
    "#Define a function to load the data\n",
    "def load_data(start,end,ch,name=\"OKSeq\",root=\"../data_hela/\"):\n",
    "    #Start and end are in kb\n",
    "    #return x in kb and signalvalue\n",
    "    \n",
    "    data = {\"OKSeq\":\"OKSeq_5kb.csv\",\n",
    "            \"MRT\":\"MRT_10kb.csv\",\n",
    "            \"Ori\":\"ori_position.tsv\"}\n",
    "    \n",
    "    if \"tsv\" in data[name]:\n",
    "        sep=\"\\t\"\n",
    "    else:\n",
    "        sep=\",\"\n",
    "    \n",
    "    read = pd.read_csv(root+data[name],sep=sep)\n",
    "    #print(read.head())\n",
    "    \n",
    "    read = read[read.chrom==\"chr%i\"%ch]\n",
    "    read = read[ (start<read.chromStart/1000) &  (read.chromStart/1000< end)]\n",
    "    return np.array(read.chromStart)/1000,np.array(read.signalValue)"
   ]
  },
  {
   "cell_type": "markdown",
   "metadata": {},
   "source": [
    "# Simulation de reference"
   ]
  },
  {
   "cell_type": "code",
   "execution_count": 3,
   "metadata": {},
   "outputs": [
    {
     "name": "stdout",
     "output_type": "stream",
     "text": [
      "6.4e-04 ,NDiff 49\n",
      "EXperimental\n",
      "Fs cte , dt 3.3 (min)\n",
      "Average introduced 0.0\n",
      "Maxiiiiiiiiiiiiiii 126\n"
     ]
    }
   ],
   "source": [
    "from repli1d.fast_sim_break import get_fast_MRT_RFDs\n",
    "\n",
    "fork_speed= 1.5  # in kb / minute\n",
    "ndiff=1.1  # Number of firing factors per Mb\n",
    "Nsim = 200\n",
    "binsize = 5 # in kb\n",
    "dori = 10 # Average distance between origins in kb\n",
    "noise_ratio = 0.1 # 10 percent of random activations \n",
    "\n",
    "startp=5000 # in kb\n",
    "endp = 50000 # in kb\n",
    "ch=1\n",
    "genomic,DNase=load_data(startp,endp,ch=1,name=\"Ori\")  #Generate random profile\n",
    "RandomActivation = np.ones_like(DNase) * noise_ratio * np.sum(DNase) / len(DNase)  # Random activation\n",
    "profile = DNase+RandomActivation\n",
    "\n",
    "\n",
    "#Rescaling parameters to size of simulated chromosome\n",
    "kon = 1e-5 * 2875000 / (len(DNase) * binsize ) #whole genome ( 2875000 == whole genome I am working with)\n",
    "ndiff = int(ndiff * len(DNase) * binsize / 1000)\n",
    "print(\"%.1e ,NDiff %i\"%(kon,ndiff))\n",
    "\n",
    "data = get_fast_MRT_RFDs(Nsim,\n",
    "                         profile,\n",
    "                         ndiff,\n",
    "                         kon=kon,\n",
    "                         fork_speed=fork_speed / binsize, #Fork speed is rescaled in bin/minute\n",
    "                         single_mol_exp=True,\n",
    "                         pulse_size=5,\n",
    "                         dori=dori,\n",
    "                         return_dict=True,n_jobs=6)"
   ]
  },
  {
   "cell_type": "markdown",
   "metadata": {},
   "source": [
    "# Simulation avec cascade"
   ]
  },
  {
   "cell_type": "code",
   "execution_count": 4,
   "metadata": {},
   "outputs": [
    {
     "name": "stdout",
     "output_type": "stream",
     "text": [
      "EXperimental\n",
      "Fs cte , dt 3.3 (min)\n",
      "Average introduced 0.0\n",
      "Maxiiiiiiiiiiiiiii 158\n"
     ]
    }
   ],
   "source": [
    "cascade = {\"infl\":50,\n",
    "           \"amount\":100,\n",
    "           \"down\":1,\n",
    "          \"damount\":0.001}\n",
    "\n",
    "\n",
    "data_cascade = get_fast_MRT_RFDs(200,\n",
    "                         profile,\n",
    "                         ndiff,\n",
    "                         kon=kon,\n",
    "                         fork_speed=fork_speed / binsize, #Fork speed is rescaled in bin/minute\n",
    "                         single_mol_exp=True,\n",
    "                         pulse_size=5,\n",
    "                         dori=dori,\n",
    "                         cascade=cascade,\n",
    "                         return_dict=True,n_jobs=6)"
   ]
  },
  {
   "cell_type": "code",
   "execution_count": null,
   "metadata": {},
   "outputs": [],
   "source": [
    "# the cascade function is the followwing:\n",
    "\n",
    "def comupute_enhanced(proba, actual_pos,cascade={}):\n",
    "\n",
    "    #assert()\n",
    "\n",
    "    infl = cascade[\"infl\"] #,50)\n",
    "    amount = cascade[\"amount\"] #,4)\n",
    "    down = cascade[\"down\"]#,10)\n",
    "    damount = cascade[\"damount\"]#,1 / 10000.)\n",
    "\n",
    "    cproba = np.zeros_like(proba) + 1\n",
    "    for position, direction, init_position in actual_pos:\n",
    "        # print(position,direction,cproba,max(position-infl),position)\n",
    "        if direction == \"L\":\n",
    "            cproba[position:min(position + infl, len(cproba) - 1)] *= amount\n",
    "        if direction == \"R\":\n",
    "            cproba[max(position - infl, 0):position] *= amount\n",
    "\n",
    "        if direction == \"L\":\n",
    "            cproba[position:min(position + down, len(cproba) - 1)] *= damount\n",
    "        if direction == \"R\":\n",
    "            cproba[max(position - down, 0):position] *= damount\n",
    "\n",
    "    return cproba\n",
    "\n",
    "# then the proba i use to draw the origin is the current proba * cproba\n",
    "\n",
    "# you could replace by one of your own .\n",
    "# by doing:\n",
    "\n",
    "#from repli1d import fast_sim_break\n",
    "\n",
    "#def custom_comupute_enhanced(proba, actual_pos,cascade={}):\n",
    "#     blabla\n",
    "#     return cproba\n",
    "\n",
    "#fast_sim_break.compute_enhanced = your_own\n",
    "\n"
   ]
  },
  {
   "cell_type": "markdown",
   "metadata": {},
   "source": [
    "# Single mol analysis"
   ]
  },
  {
   "cell_type": "code",
   "execution_count": 5,
   "metadata": {},
   "outputs": [
    {
     "name": "stdout",
     "output_type": "stream",
     "text": [
      "Without correlation\n",
      "\n",
      "Mean inter ori distance 87.9833836858006\n",
      "Mean real inter ori distance 233.8429903125571\n",
      "Nfork 0, percent 0.61\n",
      "Nfork 1, percent 0.18\n",
      "Nfork 2, percent 0.15\n",
      "Nfork 3, percent 0.02\n",
      "Nfork 4, percent 0.03\n",
      "Mean number of fork / fiber having forks 1.8764493950693035\n",
      "\n",
      "With correlation\n",
      "\n",
      "Mean inter ori distance 45.784747527329515\n",
      "Mean real inter ori distance 64.05875776664588\n",
      "Nfork 0, percent 0.70\n",
      "Nfork 1, percent 0.17\n",
      "Nfork 2, percent 0.06\n",
      "Nfork 3, percent 0.01\n",
      "Nfork 4, percent 0.01\n",
      "Mean number of fork / fiber having forks 2.8777227775245646\n"
     ]
    }
   ],
   "source": [
    "from repli1d.single_mol_analysis import compute_info, compute_real_inter_ori ,compute_mean_activated_ori\n",
    "\n",
    "def compute_corre(datav,fiber_size=200): #fiber size in kb\n",
    "\n",
    "    resolution = binsize\n",
    "    Deltas0 = compute_info(Sme=datav[\"single_mol_exp\"], size_single_mol=int(fiber_size/resolution), n_sample=500)\n",
    "\n",
    "    print(\"Mean inter ori distance\", np.mean(np.concatenate(Deltas0[\"dist_ori\"])*resolution))\n",
    "\n",
    "    Deltas = compute_real_inter_ori(datav[\"position_time_activated_oris\"])\n",
    "    print(\"Mean real inter ori distance\", np.mean(Deltas)*resolution)\n",
    "\n",
    "    nfork_per_fiber = np.array([len(di) for di in Deltas0[\"size_forks\"]])\n",
    "    # hist(nfork_per_fiber,range=[0,5],bins=6,normed=True)\n",
    "    for i in range(5):\n",
    "        print(\"Nfork %i, percent %.2f\" % (i, np.sum(nfork_per_fiber == i)/len(nfork_per_fiber)))\n",
    "\n",
    "    print(\"Mean number of fork / fiber having forks\",\n",
    "          np.mean(nfork_per_fiber[nfork_per_fiber != 0]))\n",
    "    return Deltas0,Deltas\n",
    "    \n",
    "print(\"Without correlation\\n\")\n",
    "Delta = compute_corre(data)\n",
    "\n",
    "print(\"\\nWith correlation\\n\")\n",
    "\n",
    "Delta_corre = compute_corre(data_cascade)\n",
    "\n"
   ]
  },
  {
   "cell_type": "code",
   "execution_count": 10,
   "metadata": {},
   "outputs": [
    {
     "data": {
      "text/plain": [
       "<matplotlib.legend.Legend at 0x7fd9218b9e90>"
      ]
     },
     "execution_count": 10,
     "metadata": {},
     "output_type": "execute_result"
    },
    {
     "data": {
      "image/png": "[encoded data removed]",
      "text/plain": [
       "<Figure size 864x576 with 1 Axes>"
      ]
     },
     "metadata": {
      "needs_background": "light"
     },
     "output_type": "display_data"
    }
   ],
   "source": [
    "hist(np.concatenate(Delta[0][\"dist_ori\"]),histtype=\"step\",label=\"no_corre\");\n",
    "hist(np.concatenate(Delta_corre[0][\"dist_ori\"]),histtype=\"step\",label=\"corre\");\n",
    "legend()"
   ]
  },
  {
   "cell_type": "code",
   "execution_count": null,
   "metadata": {},
   "outputs": [],
   "source": []
  }
 ],
 "metadata": {
  "kernelspec": {
   "display_name": "Python 3",
   "language": "python",
   "name": "python3"
  },
  "language_info": {
   "codemirror_mode": {
    "name": "ipython",
    "version": 3
   },
   "file_extension": ".py",
   "mimetype": "text/x-python",
   "name": "python",
   "nbconvert_exporter": "python",
   "pygments_lexer": "ipython3",
   "version": "3.7.4"
  }
 },
 "nbformat": 4,
 "nbformat_minor": 4
}
