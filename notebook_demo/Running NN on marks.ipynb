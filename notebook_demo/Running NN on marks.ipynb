{
 "cells": [
  {
   "cell_type": "code",
   "execution_count": 1,
   "metadata": {},
   "outputs": [],
   "source": [
    "from pylab import *\n",
    "%matplotlib inline"
   ]
  },
  {
   "cell_type": "markdown",
   "metadata": {},
   "source": [
    "# Loading Data"
   ]
  },
  {
   "cell_type": "code",
   "execution_count": 2,
   "metadata": {},
   "outputs": [
    {
     "name": "stdout",
     "output_type": "stream",
     "text": [
      "../data/K562_2000_merged_histones_init.csv.gz:\t 76.4%\n"
     ]
    }
   ],
   "source": [
    "!gunzip -v ../data/K562_2000_merged_histones_init.csv.gz -c > ../data/K562_2000_merged_histones_init.csv"
   ]
  },
  {
   "cell_type": "code",
   "execution_count": 2,
   "metadata": {
    "scrolled": true
   },
   "outputs": [
    {
     "name": "stdout",
     "output_type": "stream",
     "text": [
      "You may need to install pyBigWig\n",
      "         initiation       H3K4me1       H3K4me3      H3K27me3      H3K36me3  \\\n",
      "count  1.440505e+06  1.440505e+06  1.440505e+06  1.440505e+06  1.440505e+06   \n",
      "mean   9.976736e-01  1.743105e+01  1.385608e+01  1.262667e+01  1.386203e+01   \n",
      "std    2.943455e+00  3.547314e+01  4.096911e+01  1.356939e+01  1.990559e+01   \n",
      "min    0.000000e+00  0.000000e+00  0.000000e+00  0.000000e+00  0.000000e+00   \n",
      "25%    1.033000e-01  4.000000e+00  5.000000e+00  5.000000e+00  5.000000e+00   \n",
      "50%    2.160000e-01  7.000000e+00  8.000000e+00  9.000000e+00  8.000000e+00   \n",
      "75%    5.352000e-01  1.500000e+01  1.200000e+01  1.600000e+01  1.400000e+01   \n",
      "max    5.712940e+01  1.657000e+03  2.353000e+03  1.562000e+03  1.576000e+03   \n",
      "\n",
      "            H3K9me3         H2A.Z      H3K79me2        H3K9ac       H3K4me2  \\\n",
      "count  1.440505e+06  1.440505e+06  1.440505e+06  1.440505e+06  1.440505e+06   \n",
      "mean   2.009775e+01  2.315037e+01  2.184659e+01  1.761894e+01  1.295846e+01   \n",
      "std    1.492397e+01  4.477375e+01  8.462057e+01  5.578783e+01  5.150229e+01   \n",
      "min    0.000000e+00  0.000000e+00  0.000000e+00  0.000000e+00  0.000000e+00   \n",
      "25%    1.200000e+01  6.000000e+00  3.000000e+00  5.000000e+00  2.000000e+00   \n",
      "50%    1.900000e+01  1.200000e+01  7.000000e+00  9.000000e+00  4.000000e+00   \n",
      "75%    2.700000e+01  2.200000e+01  1.200000e+01  1.500000e+01  8.000000e+00   \n",
      "max    1.382000e+03  2.600000e+03  4.305000e+03  2.695000e+03  3.388000e+03   \n",
      "\n",
      "            H3K27ac      H4K20me1  \n",
      "count  1.440505e+06  1.440505e+06  \n",
      "mean   1.248053e+01  1.762619e+01  \n",
      "std    4.682844e+01  1.924339e+01  \n",
      "min    0.000000e+00  0.000000e+00  \n",
      "25%    3.000000e+00  7.000000e+00  \n",
      "50%    5.000000e+00  1.300000e+01  \n",
      "75%    1.000000e+01  2.400000e+01  \n",
      "max    2.304000e+03  2.977000e+03  \n",
      "H3K4me1\n",
      "H3K4me3\n",
      "H3K27me3\n",
      "H3K36me3\n",
      "H3K9me3\n",
      "H2A.Z\n",
      "H3K79me2\n",
      "H3K9ac\n",
      "H3K4me2\n",
      "H3K27ac\n",
      "H4K20me1\n",
      "57.1294 max\n",
      "            H3K4me1       H3K4me3      H3K27me3      H3K36me3       H3K9me3  \\\n",
      "count  1.440505e+06  1.440505e+06  1.440505e+06  1.440505e+06  1.440505e+06   \n",
      "mean   5.476946e-01  3.673046e-01  2.906668e-01  3.674865e-01  2.137218e-01   \n",
      "std    1.182131e+00  1.169950e+00  3.392347e-01  5.687311e-01  1.865496e-01   \n",
      "min   -3.333334e-02 -2.857143e-02 -2.500000e-02 -2.857143e-02 -3.750000e-02   \n",
      "25%    1.000000e-01  1.142857e-01  1.000000e-01  1.142857e-01  1.125000e-01   \n",
      "50%    2.000000e-01  2.000000e-01  2.000000e-01  2.000000e-01  2.000000e-01   \n",
      "75%    4.666667e-01  3.142857e-01  3.750000e-01  3.714286e-01  3.000000e-01   \n",
      "max    5.000000e+01  5.000000e+01  3.902500e+01  4.500000e+01  1.723750e+01   \n",
      "\n",
      "              H2A.Z      H3K79me2        H3K9ac       H3K4me2       H3K27ac  \\\n",
      "count  1.440505e+06  1.440505e+06  1.440505e+06  1.440505e+06  1.440505e+06   \n",
      "mean   4.027339e-01  6.892816e-01  4.154455e-01  6.462497e-01  4.984351e-01   \n",
      "std    8.140683e-01  2.694769e+00  1.393593e+00  2.530500e+00  1.848844e+00   \n",
      "min   -1.818182e-02 -3.333334e-02 -2.500000e-02  0.000000e+00  0.000000e+00   \n",
      "25%    9.090909e-02  6.666667e-02  1.000000e-01  1.000000e-01  1.200000e-01   \n",
      "50%    2.000000e-01  2.000000e-01  2.000000e-01  2.000000e-01  2.000000e-01   \n",
      "75%    3.818182e-01  3.666667e-01  3.500000e-01  4.000000e-01  4.000000e-01   \n",
      "max    4.725455e+01  5.000000e+01  5.000000e+01  5.000000e+01  5.000000e+01   \n",
      "\n",
      "           H4K20me1  \n",
      "count  1.440505e+06  \n",
      "mean   2.841098e-01  \n",
      "std    3.494595e-01  \n",
      "min   -3.636364e-02  \n",
      "25%    9.090909e-02  \n",
      "50%    2.000000e-01  \n",
      "75%    4.000000e-01  \n",
      "max    5.000000e+01  \n",
      "['chr3', 'chr4', 'chr5', 'chr6', 'chr7', 'chr8', 'chr9', 'chr10', 'chr11', 'chr12', 'chr13', 'chr14', 'chr15', 'chr16', 'chr17', 'chr18', 'chr19', 'chr20', 'chr21', 'chr22', 'chr23'] ['chr1']\n",
      "Working on all (no nan)\n",
      "1194281 124625 0.08651479862964724\n"
     ]
    }
   ],
   "source": [
    "import pandas as pd\n",
    "from repli1d.nn import load_signal,transform_norm,train_test_split,transform_seq\n",
    "name=\"../data/K562_2000_merged_histones_init.csv\"\n",
    "marks = [ \"H3K4me1\", \"H3K4me3\", \"H3K27me3\", \"H3K36me3\",\n",
    "                         \"H3K9me3\",\"H2A.Z\",\"H3K79me2\",\"H3K9ac\",\"H3K4me2\",\"H3K27ac\",\"H4K20me1\"]\n",
    "df, yinit, notnan = load_signal(name,\n",
    "                                marks=marks,\n",
    "                                targets=[\"initiation\"],\n",
    "                                 t_norm=transform_norm, smm=5,wig=False)\n",
    "XC = pd.read_csv(name)  # List of chromosome coordinates\n",
    "traint = [\"chr%i\"%i for i in [3,4, 5, 6, 7, 8, 9, 10, 11, 12, 13, 14, 15, 16, 17, 18, 19] +[20, 21, 22, 23]]\n",
    "testv= [\"chr1\"]\n",
    "train, test = train_test_split(XC, traint, testv, notnan)\n",
    "#X_train_us, y_train_us = df , yinit\n",
    "X_train_us, X_test_us, y_train_us, y_test_us = df[train], df[test], yinit[train], yinit[test]\n",
    "\n",
    "window=101\n",
    "vtrain = transform_seq(X_train_us, y_train_us, 1, window)\n",
    "vtest= transform_seq(X_test_us, y_test_us, 1, window)\n",
    "\n",
    "#print(vtrain[0].shape,vtrain[1].shape)"
   ]
  },
  {
   "cell_type": "code",
   "execution_count": 11,
   "metadata": {},
   "outputs": [],
   "source": [
    "#train"
   ]
  },
  {
   "cell_type": "markdown",
   "metadata": {},
   "source": [
    "# Loading the network\n",
    "command line to train it:\n",
    "```\n",
    "python src/repli1d/nn.py  --noenrichment --targets initiation --root training_dir/nn_K562_2000/ --listfile data/K562_2000_merged_histones_init.csv  --window 101 --wig 0 --predict_files data/K562_2000_merged_histones_init.csv --marks H3K4me1 H3K4me3 H3K27me3 H3K36me3 H3K9me3 H2A.Z H3K79me2 H3K9ac H3K4me2 H3K27ac H4K20me1 --datafile```"
   ]
  },
  {
   "cell_type": "code",
   "execution_count": 3,
   "metadata": {},
   "outputs": [
    {
     "name": "stdout",
     "output_type": "stream",
     "text": [
      "Model: \"sequential_1\"\n",
      "_________________________________________________________________\n",
      "Layer (type)                 Output Shape              Param #   \n",
      "=================================================================\n",
      "conv2d_1 (Conv2D)            (None, 1, 92, 15)         1665      \n",
      "_________________________________________________________________\n",
      "activation_1 (Activation)    (None, 1, 92, 15)         0         \n",
      "_________________________________________________________________\n",
      "dropout_1 (Dropout)          (None, 1, 92, 15)         0         \n",
      "_________________________________________________________________\n",
      "conv2d_2 (Conv2D)            (None, 1, 83, 15)         2265      \n",
      "_________________________________________________________________\n",
      "activation_2 (Activation)    (None, 1, 83, 15)         0         \n",
      "_________________________________________________________________\n",
      "dropout_2 (Dropout)          (None, 1, 83, 15)         0         \n",
      "_________________________________________________________________\n",
      "conv2d_3 (Conv2D)            (None, 1, 74, 15)         2265      \n",
      "_________________________________________________________________\n",
      "activation_3 (Activation)    (None, 1, 74, 15)         0         \n",
      "_________________________________________________________________\n",
      "max_pooling2d_1 (MaxPooling2 (None, 1, 37, 15)         0         \n",
      "_________________________________________________________________\n",
      "dropout_3 (Dropout)          (None, 1, 37, 15)         0         \n",
      "_________________________________________________________________\n",
      "flatten_1 (Flatten)          (None, 555)               0         \n",
      "_________________________________________________________________\n",
      "dense_1 (Dense)              (None, 1)                 556       \n",
      "_________________________________________________________________\n",
      "activation_4 (Activation)    (None, 1)                 0         \n",
      "=================================================================\n",
      "Total params: 6,751\n",
      "Trainable params: 6,751\n",
      "Non-trainable params: 0\n",
      "_________________________________________________________________\n"
     ]
    }
   ],
   "source": [
    "import keras\n",
    "\n",
    "model = keras.models.load_model(\"../data/nn_K562_2000_correct_split_Noneweights.04-0.0677.hdf5\")\n",
    "model.summary()"
   ]
  },
  {
   "cell_type": "code",
   "execution_count": 6,
   "metadata": {},
   "outputs": [
    {
     "data": {
      "text/plain": [
       "(1440405, 1, 101, 11)"
      ]
     },
     "execution_count": 6,
     "metadata": {},
     "output_type": "execute_result"
    }
   ],
   "source": [
    "vtrain[0].shape"
   ]
  },
  {
   "cell_type": "code",
   "execution_count": 11,
   "metadata": {},
   "outputs": [
    {
     "name": "stdout",
     "output_type": "stream",
     "text": [
      ",0\n",
      "minimum,0.0\n",
      "maximum,57.1294\n"
     ]
    }
   ],
   "source": [
    "!head ../../jax_based_agent/notebooks/min_max_outputs.csv"
   ]
  },
  {
   "cell_type": "code",
   "execution_count": 6,
   "metadata": {},
   "outputs": [],
   "source": [
    "#for batch in range(len(vtrain[0]))\n"
   ]
  },
  {
   "cell_type": "code",
   "execution_count": 4,
   "metadata": {},
   "outputs": [
    {
     "name": "stdout",
     "output_type": "stream",
     "text": [
      "train:\n",
      "MSE 2.7268503\n",
      "Binary loss 0.06732607\n",
      "test:\n",
      "MSE 3.7287977\n",
      "Binary loss 0.06988076\n"
     ]
    }
   ],
   "source": [
    "from repli1d.nn import inv_transform\n",
    "def binary_cross_entropy(true,pred):\n",
    "    return -np.mean(true*np.log(pred+1e-7) + (1-true)*np.log(1-pred+1e-7))\n",
    "\n",
    "which=[\"train:\",\"test:\"]\n",
    "for i,ds in enumerate([vtrain,vtest]):\n",
    "    #print(len(ds[0]))\n",
    "    n=None\n",
    "    data_start = model.predict(ds[0][:n])\n",
    "\n",
    "    f=57.1294\n",
    "    #f=1\n",
    "    print(f\"{which[i]}\")\n",
    "    print(\"MSE\",np.mean((f*data_start-f*ds[1][:n])**2))\n",
    "    print(\"Binary loss\",binary_cross_entropy(ds[1][:n],data_start))"
   ]
  },
  {
   "cell_type": "code",
   "execution_count": 16,
   "metadata": {},
   "outputs": [
    {
     "name": "stdout",
     "output_type": "stream",
     "text": [
      "4.2921743\n"
     ]
    },
    {
     "data": {
      "text/plain": [
       "<matplotlib.legend.Legend at 0x7f4ab0687470>"
      ]
     },
     "execution_count": 16,
     "metadata": {},
     "output_type": "execute_result"
    },
    {
     "data": {
      "image/png": "[encoded data removed]",
      "text/plain": [
       "<Figure size 1440x360 with 1 Axes>"
      ]
     },
     "metadata": {
      "needs_background": "light"
     },
     "output_type": "display_data"
    }
   ],
   "source": [
    "f=57.1294;\n",
    "s=60000\n",
    "figure(figsize=(20,5))\n",
    "plot(ds[1][100:]*f,label=\"target\")\n",
    "plot(data_start[100:]*f,label=\"NN prediction\")\n",
    "print(np.mean((f*data_start[:s]-f*ds[1][:s])**2))\n",
    "\n",
    "legend()"
   ]
  },
  {
   "cell_type": "code",
   "execution_count": null,
   "metadata": {},
   "outputs": [],
   "source": []
  }
 ],
 "metadata": {
  "kernelspec": {
   "display_name": "Python 3",
   "language": "python",
   "name": "python3"
  },
  "language_info": {
   "codemirror_mode": {
    "name": "ipython",
    "version": 3
   },
   "file_extension": ".py",
   "mimetype": "text/x-python",
   "name": "python",
   "nbconvert_exporter": "python",
   "pygments_lexer": "ipython3",
   "version": "3.6.10"
  }
 },
 "nbformat": 4,
 "nbformat_minor": 4
}
