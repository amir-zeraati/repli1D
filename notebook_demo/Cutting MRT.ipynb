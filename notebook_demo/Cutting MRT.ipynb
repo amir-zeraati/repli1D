{
 "cells": [
  {
   "cell_type": "code",
   "execution_count": 3,
   "metadata": {},
   "outputs": [
    {
     "name": "stdout",
     "output_type": "stream",
     "text": [
      "The autoreload extension is already loaded. To reload it, use:\n",
      "  %reload_ext autoreload\n"
     ]
    }
   ],
   "source": [
    "%matplotlib inline\n",
    "#%matplotlib ipympl\n",
    "%load_ext autoreload\n",
    "%autoreload 2\n",
    "from pylab import *\n",
    "import numpy as np"
   ]
  },
  {
   "cell_type": "code",
   "execution_count": 12,
   "metadata": {},
   "outputs": [],
   "source": [
    "MRTs = [np.arange(100.)]\n",
    "nsim=len(MRTs)\n",
    "\n",
    "n = 6\n",
    "dp = np.array(np.arange(0, 1+1/(2*n), 1/n)*100, dtype=np.int)\n",
    "MRTp = np.zeros_like(MRTs[0])\n",
    "for MRT in MRTs:\n",
    "    percentils = np.percentile(MRT, dp)\n",
    "    for ip, (p1, p2) in enumerate(zip(percentils[:-1], percentils[1:]), 1):\n",
    "        MRTp[(MRT > p1) & (MRT <= p2)] += ip/n\n",
    "    MRTp[MRT == 0] += 1/n\n",
    "\n",
    "MRT_normed = MRTp / nsim * n / (n - 1) - 1 / (n - 1)"
   ]
  },
  {
   "cell_type": "code",
   "execution_count": 11,
   "metadata": {},
   "outputs": [
    {
     "data": {
      "text/plain": [
       "[<matplotlib.lines.Line2D at 0x7f31e90c8350>]"
      ]
     },
     "execution_count": 11,
     "metadata": {},
     "output_type": "execute_result"
    },
    {
     "data": {
      "image/png": "[encoded data removed]",
      "text/plain": [
       "<Figure size 432x288 with 2 Axes>"
      ]
     },
     "metadata": {
      "needs_background": "light"
     },
     "output_type": "display_data"
    }
   ],
   "source": [
    "f=figure()\n",
    "f.add_subplot(211)\n",
    "plot(MRT_normed)\n",
    "f.add_subplot(212)\n",
    "plot(MRTs[0])\n"
   ]
  },
  {
   "cell_type": "code",
   "execution_count": null,
   "metadata": {},
   "outputs": [],
   "source": []
  }
 ],
 "metadata": {
  "kernelspec": {
   "display_name": "Python 3",
   "language": "python",
   "name": "python3"
  },
  "language_info": {
   "codemirror_mode": {
    "name": "ipython",
    "version": 3
   },
   "file_extension": ".py",
   "mimetype": "text/x-python",
   "name": "python",
   "nbconvert_exporter": "python",
   "pygments_lexer": "ipython3",
   "version": "3.7.4"
  }
 },
 "nbformat": 4,
 "nbformat_minor": 4
}
