{
 "cells": [
  {
   "cell_type": "code",
   "execution_count": 1,
   "metadata": {},
   "outputs": [
    {
     "ename": "SyntaxError",
     "evalue": "invalid syntax (1166596459.py, line 16)",
     "output_type": "error",
     "traceback": [
      "\u001b[0;36m  Input \u001b[0;32mIn [1]\u001b[0;36m\u001b[0m\n\u001b[0;31m    font=dict(\u001b[0m\n\u001b[0m    ^\u001b[0m\n\u001b[0;31mSyntaxError\u001b[0m\u001b[0;31m:\u001b[0m invalid syntax\n"
     ]
    }
   ],
   "source": [
    "import pandas as pd\n",
    "import plotly.graph_objects as go\n",
    "import plotly.express as px\n",
    "df = pd.read_csv('../development/K562_attributions.csv')\n",
    "fig = go.Figure()\n",
    "# fig.add_trace(go.Scatter(df))\n",
    "# fig.add_trace(go.Scatter(x=list(df.index[df['chrom'] == 'chr1']*2000),\n",
    "marks = ['H2A.Z', 'H3K27ac', 'H3K79me2', 'H3K27me3',\n",
    "                                 'H3K9ac', 'H3K4me2', 'H3K4me3', 'H3K9me3',\n",
    "                                 'H3K4me1', 'H3K36me3', 'H4K20me1']\n",
    "fig = px.line(df, x=df.index*2000, y=df.columns[1:])\n",
    "fig.update_layout(\n",
    "    title=\"Attributions from integrated of gradients\",\n",
    "    xaxis_title=\"Genomic position (b)\",\n",
    "    yaxis_title=\"attributions and podls\",\n",
    "    font=dict(\n",
    "        family=\"Courier New, monospace\",\n",
    "        size=18,\n",
    "        color=\"RebeccaPurple\"\n",
    "    )\n",
    ")\n",
    "fig.show()\n",
    "fig.write_html(\"../development/attributions_profile.html\")"
   ]
  }
 ],
 "metadata": {
  "kernelspec": {
   "display_name": "Python 3.9.7 ('repli')",
   "language": "python",
   "name": "python3"
  },
  "language_info": {
   "codemirror_mode": {
    "name": "ipython",
    "version": 3
   },
   "file_extension": ".py",
   "mimetype": "text/x-python",
   "name": "python",
   "nbconvert_exporter": "python",
   "pygments_lexer": "ipython3",
   "version": "3.9.7"
  },
  "orig_nbformat": 4,
  "vscode": {
   "interpreter": {
    "hash": "df80e6c81630d7ab968db881f0940f9094969e5a40810b632a0f7712d8de84d3"
   }
  }
 },
 "nbformat": 4,
 "nbformat_minor": 2
}
